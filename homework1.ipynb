{
 "cells": [
  {
   "cell_type": "code",
   "execution_count": 1,
   "metadata": {},
   "outputs": [],
   "source": [
    "from conllu import parse\n",
    "from nltk.corpus import conll2000\n",
    "from collections import Counter, defaultdict"
   ]
  },
  {
   "cell_type": "markdown",
   "metadata": {},
   "source": [
    "# Вспомогательные функции с семинара"
   ]
  },
  {
   "cell_type": "code",
   "execution_count": 2,
   "metadata": {},
   "outputs": [],
   "source": [
    "# Функция для расчёта точности теггера\n",
    "def accuracy(test_sents, postagger):\n",
    "    errors = 0\n",
    "    length = 0\n",
    "    for sent in test_sents:\n",
    "        length += len(sent)\n",
    "        sent, real_tags = zip(*sent)\n",
    "        my_tags = postagger.tag(sent)\n",
    "        for i in range(len(my_tags)):\n",
    "            if my_tags[i][1] != real_tags[i]:\n",
    "                errors += 1\n",
    "    return 1 - errors / length\n",
    "\n",
    "# Нормализатор для получения распределения вероятностей из частот\n",
    "class BaseNormalizer:\n",
    "    def normalize(self, counter):\n",
    "        sum_ = sum(counter.values())\n",
    "        for token in counter:\n",
    "            counter[token] /= sum_"
   ]
  },
  {
   "cell_type": "markdown",
   "metadata": {},
   "source": [
    "# Реализация Bigram POS tagger"
   ]
  },
  {
   "cell_type": "code",
   "execution_count": 3,
   "metadata": {},
   "outputs": [],
   "source": [
    "# Эмиссионная модель остается как в семинаре,\n",
    "# тк логика присвоения вероятности тега тому или иному слову\n",
    "# не зависит от типа теггера\n",
    "\n",
    "class EmissionModel:\n",
    "    def __init__(self, tagged_sents, normalizer=BaseNormalizer()):\n",
    "        self.normalizer = normalizer\n",
    "        self.model = defaultdict(Counter)\n",
    "        # self.model будет иметь вид \n",
    "        # defaultdict({\n",
    "        #     'tag_1': Counter({'word_1': 0.3, 'word_2': 0.7}),\n",
    "        #     'tag_2': Counter({'word_1': 0.6, 'word_3': 0.3 ...})\n",
    "        # })\n",
    "        for sent in tagged_sents:\n",
    "            for word, tag in sent:\n",
    "                self.model[tag][word] += 1\n",
    "        self.add_unk_token()\n",
    "        for tag in self.model:\n",
    "            self.normalizer.normalize(self.model[tag])\n",
    "        \n",
    "    def add_unk_token(self):\n",
    "        # Для каждого тега добавим одинаковую вероятность быть приписанным любому слову, которого нет в модели\n",
    "        for tag in self.model:\n",
    "            self.model[tag]['UNK'] = 0.1\n",
    "        \n",
    "    def tags(self):\n",
    "        # Добавим возможность возвращать все теги, которые есть в модели\n",
    "        return self.model.keys()\n",
    "    \n",
    "    def __getitem__(self, tag):\n",
    "        # Все слова для данного тега\n",
    "        return self.model[tag]\n",
    "    \n",
    "    def __call__(self, word, tag):\n",
    "        # Самое интересное - вероятность P(word|tag)\n",
    "        if word not in self[tag]:\n",
    "            return self[tag]['UNK']\n",
    "        return self[tag][word]"
   ]
  },
  {
   "cell_type": "code",
   "execution_count": 4,
   "metadata": {},
   "outputs": [],
   "source": [
    "# Отвечает за определение вероятности P(tag_1|tag_2)\n",
    "\n",
    "class TransitionModel:\n",
    "    def __init__(self, tag_seqs, normalizer=BaseNormalizer()):\n",
    "        self.normalizer = normalizer\n",
    "        # Хранит вероятности P(tag_1|tag_2) в виде:\n",
    "        # defaultdict(\n",
    "        # 'tag_1': Counter({\n",
    "        #     'tag_1': 0.34, 'tag_2': 0.1, ...\n",
    "        # }),\n",
    "        # 'tag_2': Counter({\n",
    "        #     'tag_1': 0.34, 'tag_2': 0.1, ...\n",
    "        # }), ...)\n",
    "        self.model = defaultdict(Counter)\n",
    "\n",
    "        for sent in tag_seqs:\n",
    "            for i, tag in enumerate(sent):\n",
    "                if i == 0:\n",
    "                    # Счетчик для тега, встречающегося в начале предложения\n",
    "                    self.model['START'][sent[0]] += 1\n",
    "                    continue\n",
    "                # Счетчик для остальных тегов в предложении\n",
    "                self.model[sent[i - 1]][tag] += 1\n",
    "\n",
    "        # Для каждого тега получаем значение распределения вероятностей из частот появления тегов:\n",
    "        for tag in self.model:\n",
    "            self.normalizer.normalize(self.model[tag])\n",
    "\n",
    "    def tags(self):\n",
    "        return self.model.keys()\n",
    "\n",
    "    def __getitem__(self, tag):\n",
    "        # Все теги перед текущим тегом\n",
    "        return self.model[tag]\n",
    "    \n",
    "    def __call__(self, tag, prev_tag=None):\n",
    "        # Возвращает вероятность P(tag_1|tag_2)\n",
    "        if not prev_tag:\n",
    "            return self.model['START'][tag]\n",
    "        return self.model[prev_tag][tag]"
   ]
  },
  {
   "cell_type": "code",
   "execution_count": 5,
   "metadata": {},
   "outputs": [],
   "source": [
    "# Сопоставляет последовательность слов с последовательностью тегов.\n",
    "\n",
    "class BigramPOSTagger:\n",
    "    def __init__(self, emission_model, transition_model):\n",
    "        self.em = emission_model\n",
    "        self.tm = transition_model\n",
    "\n",
    "    def tag(self, sent):\n",
    "        # Для списка слов возвращаем список пар (слово, тег)\n",
    "        # Для каждого слова проходимся по всем тегам\n",
    "        # И выбираем максимум по формуле (8.18) из учебника\n",
    "        tags = []\n",
    "\n",
    "        for i, word in enumerate(sent):\n",
    "            # Определим предыдущий тег\n",
    "            if i == 0:\n",
    "                prev_t = 'START'\n",
    "            else:\n",
    "                prev_t = tags[i - 1]\n",
    "\n",
    "            # Исправленный алгоритм, max_prob и best_tag обновляем для каждого слова\n",
    "            max_prob = 0\n",
    "            best_tag = 'UNK'\n",
    "            for t in self.tm.tags():\n",
    "                prob = self.em(word, t) * self.tm(t, prev_t)\n",
    "                if prob > max_prob:\n",
    "                    max_prob, best_tag = prob, t\n",
    "            tags.append(best_tag)\n",
    "\n",
    "        return list(zip(sent, tags))"
   ]
  },
  {
   "cell_type": "markdown",
   "metadata": {},
   "source": [
    "# Обучение теггера и сравнение точности для разных корпусов"
   ]
  },
  {
   "cell_type": "markdown",
   "metadata": {},
   "source": [
    "### Загрузим корпуса, на которых будем обучать теггер"
   ]
  },
  {
   "cell_type": "code",
   "execution_count": 6,
   "metadata": {},
   "outputs": [],
   "source": [
    "# conll2000 корпус\n",
    "conll2000.ensure_loaded()\n",
    "\n",
    "train_sents_conll2000 = conll2000.tagged_sents()[:8000]\n",
    "\n",
    "# UD_English-EWT корпус\n",
    "train_sents_ewt_ud = []\n",
    "with open('./UD_English-EWT/en_ewt-ud-train.conllu') as train_set:\n",
    "    for tokens in parse(train_set.read()):\n",
    "        train_sents_ewt_ud.append([(token['form'], token['upostag']) for token in tokens])"
   ]
  },
  {
   "cell_type": "markdown",
   "metadata": {},
   "source": [
    "### Обучим теггеры"
   ]
  },
  {
   "cell_type": "code",
   "execution_count": 7,
   "metadata": {},
   "outputs": [],
   "source": [
    "# Теггер, обученный на conll2000\n",
    "em_conll2000 = EmissionModel(train_sents_conll2000)\n",
    "tm_conll2000 = TransitionModel([[tag for word, tag in sent] for sent in train_sents_conll2000])\n",
    "tagger_conll2000 = BigramPOSTagger(em_conll2000, tm_conll2000)"
   ]
  },
  {
   "cell_type": "code",
   "execution_count": 8,
   "metadata": {},
   "outputs": [],
   "source": [
    "# Теггер, обученный на UD_English-EWT\n",
    "em_ewt_ud  = EmissionModel(train_sents_ewt_ud)\n",
    "tm_ewt_ud = TransitionModel([[tag for word, tag in sent] for sent in train_sents_ewt_ud])\n",
    "tagger_ewt_ud = BigramPOSTagger(em_ewt_ud, tm_ewt_ud)"
   ]
  },
  {
   "cell_type": "markdown",
   "metadata": {},
   "source": [
    "### Сравним точность теггеров"
   ]
  },
  {
   "cell_type": "code",
   "execution_count": 9,
   "metadata": {},
   "outputs": [
    {
     "name": "stdout",
     "output_type": "stream",
     "text": [
      "Точность теггера, обученного на conll2000: 0.8722227025157776\n",
      "Точность теггера, обученного на UD_English-EWT: 0.8385065944136749\n"
     ]
    }
   ],
   "source": [
    "test_sents_conll2000 = conll2000.tagged_sents()[8000:]\n",
    "print(f'Точность теггера, обученного на conll2000: {accuracy(test_sents_conll2000, tagger_conll2000)}')\n",
    "\n",
    "test_sents_ewt_ud = []\n",
    "with open('./UD_English-EWT/en_ewt-ud-test.conllu') as test_set:\n",
    "    for tokens in parse(test_set.read()):\n",
    "        test_sents_ewt_ud.append([(token['form'], token['upostag']) for token in tokens])\n",
    "print(f'Точность теггера, обученного на UD_English-EWT: {accuracy(test_sents_ewt_ud, tagger_ewt_ud)}')"
   ]
  },
  {
   "cell_type": "markdown",
   "metadata": {},
   "source": [
    "Точность теггера, обученного на корпусе conll2000 оказалась выше, чем на UD_English-EWT."
   ]
  }
 ],
 "metadata": {
  "kernelspec": {
   "display_name": "Python 3",
   "language": "python",
   "name": "python3"
  },
  "language_info": {
   "codemirror_mode": {
    "name": "ipython",
    "version": 3
   },
   "file_extension": ".py",
   "mimetype": "text/x-python",
   "name": "python",
   "nbconvert_exporter": "python",
   "pygments_lexer": "ipython3",
   "version": "3.7.0"
  }
 },
 "nbformat": 4,
 "nbformat_minor": 2
}
