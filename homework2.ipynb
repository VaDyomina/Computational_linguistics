{
 "cells": [
  {
   "cell_type": "code",
   "execution_count": 1,
   "metadata": {},
   "outputs": [],
   "source": [
    "import nltk"
   ]
  },
  {
   "cell_type": "code",
   "execution_count": 2,
   "metadata": {},
   "outputs": [],
   "source": [
    "sents = ['Вася читает мою книгу', 'Напиши какое-нибудь письмо', 'Этот веселый мальчик идет',\n",
    "         'Он любит читать всякие книги']"
   ]
  },
  {
   "cell_type": "code",
   "execution_count": 3,
   "metadata": {},
   "outputs": [],
   "source": [
    "rules = \"\"\"\n",
    "     S -> NP VP | NP V | VP\n",
    "     NP -> ADJ NP | ADJ N | NN\n",
    "     VP -> V NP | V VP \n",
    "     N -> 'книгу' | 'письмо' | 'мальчик' | 'книги'\n",
    "     NN -> 'Вася' | 'Он'\n",
    "     V -> 'читает' | 'Напиши' | 'идет' | 'любит' | 'читать'\n",
    "     ADJ -> 'мою' | 'какое-нибудь' | 'Этот' | 'веселый' | 'всякие'\n",
    "\"\"\".split('\\n')"
   ]
  },
  {
   "cell_type": "code",
   "execution_count": 4,
   "metadata": {},
   "outputs": [],
   "source": [
    "grammar = nltk.CFG.fromstring('\\n'.join(rules))"
   ]
  },
  {
   "cell_type": "code",
   "execution_count": 5,
   "metadata": {},
   "outputs": [],
   "source": [
    "def print_parses(parser, sentence):\n",
    "    for tree in parser.parse(sentence.split()):\n",
    "        print(tree)\n",
    "        print()"
   ]
  },
  {
   "cell_type": "markdown",
   "metadata": {},
   "source": [
    "## 1. Алгоритм Кока-Янгера-Касами (CYK)"
   ]
  },
  {
   "cell_type": "markdown",
   "metadata": {},
   "source": [
    "### Последовательно продемонстрируем действие CYK: \n",
    "* Разделим предложение на слова и поместим на нулевую строку: "
   ]
  },
  {
   "cell_type": "markdown",
   "metadata": {},
   "source": [
    "<table style=\"width: 250px;\" >\n",
    "    <tbody>\n",
    "        <tr>\n",
    "            <td></td>\n",
    "            <td><b>1</b></td>\n",
    "            <td><b>2</b></td>\n",
    "            <td><b>3</b></td>\n",
    "            <td><b>4</b></td>\n",
    "        </tr>\n",
    "        <tr>\n",
    "            <td><b>4</b></td>\n",
    "            <td></td>\n",
    "            <td></td>\n",
    "            <td></td>\n",
    "            <td></td>\n",
    "        </tr>\n",
    "        <tr>\n",
    "            <td><b>3</b></td>\n",
    "            <td></td>\n",
    "            <td></td>\n",
    "            <td></td>\n",
    "            <td></td>\n",
    "        </tr>\n",
    "        <tr>\n",
    "            <td><b>2</b></td>\n",
    "            <td></td>\n",
    "            <td></td>\n",
    "            <td></td>\n",
    "            <td></td>\n",
    "        </tr>\n",
    "        <tr>\n",
    "            <td><b>1</b></td>\n",
    "            <td></td>\n",
    "            <td></td>\n",
    "            <td></td>\n",
    "            <td></td>\n",
    "        </tr>\n",
    "        <tr>\n",
    "            <td><b>0</b></td>\n",
    "            <td>Вася</td>\n",
    "            <td>читает</td>\n",
    "            <td>мою</td>\n",
    "            <td>книгу</td>\n",
    "        </tr>\n",
    "    </tbody>\n",
    "</table>"
   ]
  },
  {
   "cell_type": "markdown",
   "metadata": {},
   "source": [
    "* В первую строку внесем нетерминальные символы, соотвествующие заданным терминальным:"
   ]
  },
  {
   "cell_type": "markdown",
   "metadata": {},
   "source": [
    "<table align=\"center\" style=\"width: 250px; text-align: 'center';\" > \n",
    "    <tbody>\n",
    "        <tr>\n",
    "            <td></td>\n",
    "            <td><b>1</b></td>\n",
    "            <td><b>2</b></td>\n",
    "            <td><b>3</b></td>\n",
    "            <td><b>4</b></td>\n",
    "        </tr>\n",
    "        <tr>\n",
    "            <td><b>4</b></td>\n",
    "            <td></td>\n",
    "            <td></td>\n",
    "            <td></td>\n",
    "            <td></td>\n",
    "        </tr>\n",
    "        <tr>\n",
    "            <td><b>3</b></td>\n",
    "            <td></td>\n",
    "            <td></td>\n",
    "            <td></td>\n",
    "            <td></td>\n",
    "        </tr>\n",
    "        <tr>\n",
    "            <td><b>2</b></td>\n",
    "            <td></td>\n",
    "            <td></td>\n",
    "            <td></td>\n",
    "            <td></td>\n",
    "        </tr>\n",
    "        <tr>\n",
    "            <td><b>1</b></td>\n",
    "            <td style=\"text-align: center;\">N</td>\n",
    "            <td style=\"text-align: center;\">V</td>\n",
    "            <td style=\"text-align: center;\">ADJ</td>\n",
    "            <td style=\"text-align: center;\">N</td>\n",
    "        </tr>\n",
    "        <tr>\n",
    "            <td><b>0</b></td>\n",
    "            <td>Вася</td>\n",
    "            <td>читает</td>\n",
    "            <td>мою</td>\n",
    "            <td>книгу</td>\n",
    "        </tr>\n",
    "    </tbody>\n",
    "</table>"
   ]
  },
  {
   "cell_type": "markdown",
   "metadata": {},
   "source": [
    "* Найдем все возможные разбиения на 2 составляющих c шагом 1 (NP -> ADJ N): "
   ]
  },
  {
   "cell_type": "markdown",
   "metadata": {},
   "source": [
    "<table align=\"center\" style=\"width: 250px; text-align: 'center';\" > \n",
    "    <tbody>\n",
    "        <tr>\n",
    "            <td></td>\n",
    "            <td><b>1</b></td>\n",
    "            <td><b>2</b></td>\n",
    "            <td><b>3</b></td>\n",
    "            <td><b>4</b></td>\n",
    "        </tr>\n",
    "        <tr>\n",
    "            <td><b>4</b></td>\n",
    "            <td></td>\n",
    "            <td></td>\n",
    "            <td></td>\n",
    "            <td></td>\n",
    "        </tr>\n",
    "        <tr>\n",
    "            <td><b>3</b></td>\n",
    "            <td></td>\n",
    "            <td></td>\n",
    "            <td></td>\n",
    "            <td></td>\n",
    "        </tr>\n",
    "        <tr>\n",
    "            <td><b>2</b></td>\n",
    "            <td></td>\n",
    "            <td></td>\n",
    "            <td style=\"text-align: center;\">NP</td>\n",
    "            <td></td>\n",
    "        </tr>\n",
    "        <tr>\n",
    "            <td><b>1</b></td>\n",
    "            <td style=\"text-align: center;\">N</td>\n",
    "            <td style=\"text-align: center;\">V</td>\n",
    "            <td style=\"text-align: center;\">ADJ</td>\n",
    "            <td style=\"text-align: center;\">N</td>\n",
    "        </tr>\n",
    "        <tr>\n",
    "            <td><b>0</b></td>\n",
    "            <td>Вася</td>\n",
    "            <td>читает</td>\n",
    "            <td>мою</td>\n",
    "            <td>книгу</td>\n",
    "        </tr>\n",
    "    </tbody>\n",
    "</table>"
   ]
  },
  {
   "cell_type": "markdown",
   "metadata": {},
   "source": [
    "* Найдем все возможные разбиения на 2 составляющих с шагом 3(VP -> V NP):"
   ]
  },
  {
   "cell_type": "markdown",
   "metadata": {},
   "source": [
    "<table align=\"center\" style=\"width: 250px; text-align: 'center';\" > \n",
    "    <tbody>\n",
    "        <tr>\n",
    "            <td></td>\n",
    "            <td><b>1</b></td>\n",
    "            <td><b>2</b></td>\n",
    "            <td><b>3</b></td>\n",
    "            <td><b>4</b></td>\n",
    "        </tr>\n",
    "        <tr>\n",
    "            <td><b>4</b></td>\n",
    "            <td></td>\n",
    "            <td></td>\n",
    "            <td></td>\n",
    "            <td></td>\n",
    "        </tr>\n",
    "        <tr>\n",
    "            <td><b>3</b></td>\n",
    "            <td></td>\n",
    "            <td  style=\"text-align: center;\">VP</td>\n",
    "            <td></td>\n",
    "            <td></td>\n",
    "        </tr>\n",
    "        <tr>\n",
    "            <td><b>2</b></td>\n",
    "            <td></td>\n",
    "            <td></td>\n",
    "            <td style=\"text-align: center;\">NP</td>\n",
    "            <td></td>\n",
    "        </tr>\n",
    "        <tr>\n",
    "            <td><b>1</b></td>\n",
    "            <td style=\"text-align: center;\">N</td>\n",
    "            <td style=\"text-align: center;\">V</td>\n",
    "            <td style=\"text-align: center;\">ADJ</td>\n",
    "            <td style=\"text-align: center;\">N</td>\n",
    "        </tr>\n",
    "        <tr>\n",
    "            <td><b>0</b></td>\n",
    "            <td>Вася</td>\n",
    "            <td>читает</td>\n",
    "            <td>мою</td>\n",
    "            <td>книгу</td>\n",
    "        </tr>\n",
    "    </tbody>\n",
    "</table>"
   ]
  },
  {
   "cell_type": "markdown",
   "metadata": {},
   "source": [
    "* **S -> NP VP => предложение выводится заданной нами грамматикой в нормальной форме Хомского:**"
   ]
  },
  {
   "cell_type": "markdown",
   "metadata": {},
   "source": [
    "<table align=\"center\" style=\"width: 250px; text-align: 'center';\" >\n",
    "    <tbody>\n",
    "        <tr>\n",
    "            <td></td>\n",
    "            <td><b>1</b></td>\n",
    "            <td><b>2</b></td>\n",
    "            <td><b>3</b></td>\n",
    "            <td><b>4</b></td>\n",
    "        </tr>\n",
    "        <tr>\n",
    "            <td><b>4</b></td>\n",
    "            <td style=\"text-align: center;\">S</td>\n",
    "            <td></td>\n",
    "            <td></td>\n",
    "            <td></td>\n",
    "        </tr>\n",
    "        <tr>\n",
    "            <td><b>3</b></td>\n",
    "            <td></td>\n",
    "            <td style=\"text-align: center;\">VP</td>\n",
    "            <td></td>\n",
    "            <td></td>\n",
    "        </tr>\n",
    "        <tr>\n",
    "            <td><b>2</b></td>\n",
    "            <td></td>\n",
    "            <td></td>\n",
    "            <td style=\"text-align: center;\">NP</td>\n",
    "            <td></td>\n",
    "        </tr>\n",
    "        <tr>\n",
    "            <td><b>1</b></td>\n",
    "            <td style=\"text-align: center;\">N</td>\n",
    "            <td style=\"text-align: center;\">V</td>\n",
    "            <td style=\"text-align: center;\">ADJ</td>\n",
    "            <td style=\"text-align: center;\">N</td>\n",
    "        </tr>\n",
    "        <tr>\n",
    "            <td><b>0</b></td>\n",
    "            <td>Вася</td>\n",
    "            <td>читает</td>\n",
    "            <td>мою</td>\n",
    "            <td>книгу</td>\n",
    "        </tr>\n",
    "    </tbody>\n",
    "</table>"
   ]
  },
  {
   "cell_type": "markdown",
   "metadata": {},
   "source": [
    "## Алгоритм Эрли"
   ]
  },
  {
   "cell_type": "markdown",
   "metadata": {},
   "source": [
    "### Последовательно продемонстрируем действие алгоритма Эрли: "
   ]
  },
  {
   "cell_type": "markdown",
   "metadata": {},
   "source": [
    "* S = Вася читает мою книгу"
   ]
  },
  {
   "cell_type": "markdown",
   "metadata": {},
   "source": [
    "0: * Вася читает мою книгу:"
   ]
  },
  {
   "cell_type": "markdown",
   "metadata": {},
   "source": [
    "<table align=\"center\" style=\"width: 200px; text-align: 'center';\">\n",
    "    <tbody>\n",
    "        <tr>\n",
    "            <td style=\"text-align: left;\"><b>state</b></td>\n",
    "            <td style=\"text-align: left;\"><b>situation</b></td>\n",
    "        </tr>\n",
    "        <tr>\n",
    "            <td style=\"text-align: left;\">[0:0]</td>\n",
    "            <td style=\"text-align: left;\">S -&gt; * NP VP</td>\n",
    "        </tr>\n",
    "        <tr>\n",
    "            <td style=\"text-align: left;\">[0:0]<br></td>\n",
    "            <td style=\"text-align: left;\">S -&gt; * NP V</td>\n",
    "        </tr>\n",
    "        <tr>\n",
    "            <td style=\"text-align: left;\">[0:0]<br></td>\n",
    "            <td style=\"text-align: left;\">S -&gt; *VP</td>\n",
    "        </tr>\n",
    "        <tr>\n",
    "            <td style=\"text-align: left;\">[0:0]</td>\n",
    "            <td style=\"text-align: left;\">VP-&gt; * V NP</td>\n",
    "        </tr>\n",
    "        <tr>\n",
    "            <td style=\"text-align: left;\">[0:0]</td>\n",
    "            <td style=\"text-align: left;\">VP-&gt; * V VP</td>\n",
    "        </tr>\n",
    "        <tr>\n",
    "            <td style=\"text-align: left;\">[0:0]</td>\n",
    "            <td style=\"text-align: left;\">VP-&gt; * V</td>\n",
    "        </tr>\n",
    "        <tr>\n",
    "            <td style=\"text-align: left;\">[0:0]</td>\n",
    "            <td style=\"text-align: left;\">NP-&gt; * ADJ NP</td>\n",
    "        </tr>\n",
    "        <tr>\n",
    "            <td style=\"text-align: left;\">[0:0]</td>\n",
    "            <td style=\"text-align: left;\">NP-&gt; * ADJ N<br></td>\n",
    "        </tr>\n",
    "        <tr>\n",
    "            <td style=\"text-align: left;\">[0:0]<br></td>\n",
    "            <td style=\"text-align: left;\">NP-&gt; *N</td>\n",
    "        </tr>\n",
    "        <tr>\n",
    "            <td style=\"text-align: left;\">[0:0]</td>\n",
    "            <td style=\"text-align: left;\">NP-&gt; *NN</td>\n",
    "        </tr>\n",
    "    </tbody>\n",
    "</table>"
   ]
  },
  {
   "cell_type": "markdown",
   "metadata": {},
   "source": [
    "1: Вася * читает мою книгу:"
   ]
  },
  {
   "cell_type": "markdown",
   "metadata": {},
   "source": [
    "<table>\n",
    "    <tbody>\n",
    "        <tr>\n",
    "            <td style=\"text-align: left;\"><b>state</b></td>\n",
    "            <td style=\"text-align: left;\"><b>situation</b></td>\n",
    "        </tr>\n",
    "        <tr>\n",
    "            <td style=\"text-align: left;\">[0:1]</td>\n",
    "            <td style=\"text-align: left;\">NP -&gt; 'Вася' *</td>\n",
    "        </tr>\n",
    "        <tr>\n",
    "            <td style=\"text-align: left;\">[0:1]</td>\n",
    "            <td style=\"text-align: left;\">S -&gt; NP * VP</td>\n",
    "        </tr>\n",
    "        <tr>\n",
    "            <td style=\"text-align: left;\">[0:1]</td>\n",
    "            <td style=\"text-align: left;\">S -&gt; NP * V</td>\n",
    "        </tr>\n",
    "        <tr>\n",
    "            <td style=\"text-align: left;\">[1:1]</td>\n",
    "            <td style=\"text-align: left;\">VP-&gt; *V NP</td>\n",
    "        </tr>\n",
    "        <tr>\n",
    "            <td style=\"text-align: left;\">[1:1]<br></td>\n",
    "            <td style=\"text-align: left;\">VP-&gt; *V VP</td>\n",
    "        </tr>\n",
    "        <tr>\n",
    "            <td style=\"text-align: left;\">[1:1]<br></td>\n",
    "            <td style=\"text-align: left;\">VP-&gt; *V</td>\n",
    "        </tr>\n",
    "    </tbody>\n",
    "</table>"
   ]
  },
  {
   "cell_type": "markdown",
   "metadata": {},
   "source": [
    "2: Вася читает * мою книгу:"
   ]
  },
  {
   "cell_type": "markdown",
   "metadata": {},
   "source": [
    "<table>\n",
    "    <tbody>\n",
    "        <tr>\n",
    "            <td style=\"text-align: left;\"><b>state</b></td>\n",
    "            <td style=\"text-align: left;\"><b>situation</b></td>\n",
    "        </tr>\n",
    "        <tr>\n",
    "            <td style=\"text-align: left;\">[1:2]</td>\n",
    "            <td style=\"text-align: left;\">V -&gt; 'читает' *</td>\n",
    "        </tr>\n",
    "        <tr>\n",
    "            <td style=\"text-align: left;\">[0:2]</td>\n",
    "            <td style=\"text-align: left;\">S -&gt; NP VP *</td>\n",
    "        </tr>\n",
    "        <tr>\n",
    "            <td style=\"text-align: left;\">[1:2]<br></td>\n",
    "            <td style=\"text-align: left;\">VP -&gt; V * NP</td>\n",
    "        </tr>\n",
    "        <tr>\n",
    "            <td style=\"text-align: left;\">[1:2]<br></td>\n",
    "            <td style=\"text-align: left;\">VP -&gt; V * VP</td>\n",
    "        </tr>\n",
    "        <tr>\n",
    "            <td style=\"text-align: left;\">[1:2]</td>\n",
    "            <td style=\"text-align: left;\">VP -&gt; V * N</td>\n",
    "        </tr>\n",
    "        <tr>\n",
    "            <td style=\"text-align: left;\">[2:2]</td>\n",
    "            <td style=\"text-align: left;\">NP-&gt; * ADJ NP</td>\n",
    "        </tr>\n",
    "        <tr>\n",
    "            <td style=\"text-align: left;\">[2:2]</td>\n",
    "            <td style=\"text-align: left;\">NP-&gt; * ADJ N</td>\n",
    "        </tr>\n",
    "        <tr>\n",
    "            <td style=\"text-align: left;\">[2:2]</td>\n",
    "            <td style=\"text-align: left;\">NP -&gt; 'Вася'</td>\n",
    "        </tr>\n",
    "        <tr>\n",
    "            <td style=\"text-align: left;\">[2:2]</td>\n",
    "            <td style=\"text-align: left;\">NP -&gt; 'Он'</td>\n",
    "        </tr>\n",
    "        <tr>\n",
    "            <td style=\"text-align: left;\">[2:2]<br></td>\n",
    "            <td style=\"text-align: left;\">VP -&gt; * V NP</td>\n",
    "        </tr>\n",
    "        <tr>\n",
    "            <td style=\"text-align: left;\">[2:2]</td>\n",
    "            <td style=\"text-align: left;\">VP -&gt; * V VP </td>\n",
    "        </tr>\n",
    "        <tr>\n",
    "            <td style=\"text-align: left;\">[2:2]</td>\n",
    "            <td style=\"text-align: left;\">VP -&gt; * V N<br></td>\n",
    "        </tr>\n",
    "    </tbody>\n",
    "</table>"
   ]
  },
  {
   "cell_type": "markdown",
   "metadata": {},
   "source": [
    "3: Вася читает мою * книгу:"
   ]
  },
  {
   "cell_type": "markdown",
   "metadata": {},
   "source": [
    "<table>\n",
    "    <tbody>\n",
    "        <tr>\n",
    "            <td style=\"text-align: left;\"><b>state</b></td>\n",
    "            <td style=\"text-align: left;\"><b>situation</b></td>\n",
    "        </tr>\n",
    "        <tr>\n",
    "            <td style=\"text-align: left;\">[2:3]</td>\n",
    "            <td style=\"text-align: left;\">ADJ -&gt; 'мою'</td>\n",
    "        </tr>\n",
    "        <tr>\n",
    "            <td style=\"text-align: left;\">[2:3]</td>\n",
    "            <td style=\"text-align: left;\">NP -&gt; ADJ * NP</td>\n",
    "        </tr>\n",
    "        <tr>\n",
    "            <td style=\"text-align: left;\">[2:3]</td>\n",
    "            <td style=\"text-align: left;\">NP -&gt; ADJ * N<br></td>\n",
    "        </tr>\n",
    "        <tr>\n",
    "            <td style=\"text-align: left;\">[3:3]</td>\n",
    "            <td style=\"text-align: left;\">NP -&gt; * ADJ NP<br></td>\n",
    "        </tr>\n",
    "        <tr>\n",
    "            <td style=\"text-align: left;\">[3:3]<br></td>\n",
    "            <td style=\"text-align: left;\">NP -&gt; * ADJ N<br></td>\n",
    "        </tr>\n",
    "        <tr>\n",
    "            <td style=\"text-align: left;\">[3:3]</td>\n",
    "            <td style=\"text-align: left;\">NP -&gt; * NN<br></td>\n",
    "        </tr>\n",
    "        <tr>\n",
    "            <td style=\"text-align: left;\">[3:3]<br></td>\n",
    "            <td style=\"text-align: left;\">NP -&gt; * N</td>\n",
    "        </tr>\n",
    "    </tbody>\n",
    "</table>"
   ]
  },
  {
   "cell_type": "markdown",
   "metadata": {},
   "source": [
    "4: Вася читает мою книгу *:"
   ]
  },
  {
   "cell_type": "markdown",
   "metadata": {},
   "source": [
    "<table>\n",
    "    <tbody>\n",
    "        <tr>\n",
    "            <td style=\"text-align: left;\"><b>state</b></td>\n",
    "            <td style=\"text-align: left;\"><b>situation</b></td>\n",
    "        </tr>\n",
    "        <tr>\n",
    "            <td style=\"text-align: left;\">[3:4]</td>\n",
    "            <td style=\"text-align: left;\">N -&gt; 'книгу' *</td>\n",
    "        </tr>\n",
    "        <tr>\n",
    "            <td style=\"text-align: left;\">[2:4]</td>\n",
    "            <td style=\"text-align: left;\">NP -&gt; ADJ NP *</td>\n",
    "        </tr>\n",
    "        <tr>\n",
    "            <td style=\"text-align: left;\">[2:4]<br></td>\n",
    "            <td style=\"text-align: left;\">NP -&gt; ADJ N *</td>\n",
    "        </tr>\n",
    "        <tr>\n",
    "            <td style=\"text-align: left;\">[1:4]</td>\n",
    "            <td style=\"text-align: left;\">VP -&gt; V NP *</td>\n",
    "        </tr>\n",
    "        <tr>\n",
    "            <td style=\"text-align: left;\">[0:4]</td>\n",
    "            <td style=\"text-align: left;\">S -&gt; NP VP *</td>\n",
    "        </tr>\n",
    "    </tbody>\n",
    "</table>"
   ]
  },
  {
   "cell_type": "markdown",
   "metadata": {},
   "source": [
    "**! S -> NP VP => предложение выводится заданной нами грамматикой в нормальной форме Хомского:**"
   ]
  },
  {
   "cell_type": "markdown",
   "metadata": {},
   "source": [
    "## 2. Проверим результаты работы нашей грамматики с помощью NLTK: "
   ]
  },
  {
   "cell_type": "code",
   "execution_count": 6,
   "metadata": {},
   "outputs": [
    {
     "name": "stdout",
     "output_type": "stream",
     "text": [
      "Вася читает мою книгу\n",
      "(S (NP (NN Вася)) (VP (V читает) (NP (ADJ мою) (N книгу))))\n",
      "\n",
      "Напиши какое-нибудь письмо\n",
      "(S (VP (V Напиши) (NP (ADJ какое-нибудь) (N письмо))))\n",
      "\n",
      "Этот веселый мальчик идет\n",
      "(S (NP (ADJ Этот) (NP (ADJ веселый) (N мальчик))) (V идет))\n",
      "\n",
      "Он любит читать всякие книги\n",
      "(S\n",
      "  (NP (NN Он))\n",
      "  (VP (V любит) (VP (V читать) (NP (ADJ всякие) (N книги)))))\n",
      "\n"
     ]
    }
   ],
   "source": [
    "cp = nltk.EarleyChartParser(grammar)\n",
    "for i, sent in enumerate(sents):\n",
    "    print(sent)\n",
    "    print_parses(cp, sent) # работает"
   ]
  },
  {
   "cell_type": "markdown",
   "metadata": {},
   "source": [
    "## 3. Как можно улучшить работу парсера? "
   ]
  },
  {
   "cell_type": "markdown",
   "metadata": {},
   "source": [
    "*Работу парсера с новыми словами можно улучшить с помощью морфологического анализатора:* "
   ]
  },
  {
   "cell_type": "markdown",
   "metadata": {},
   "source": [
    "* Морфологический анализатор поможет определить части речи, что позволит нам добавлять правила для новых слов."
   ]
  },
  {
   "cell_type": "markdown",
   "metadata": {},
   "source": [
    "* Также вместо того, чтобы записывать в грамматику правила для всех употребленных в предложении словоформ, мы сможем внести одно правило для приведения слова в начальную форму. "
   ]
  },
  {
   "cell_type": "markdown",
   "metadata": {},
   "source": [
    "## 4. Неоднозначность "
   ]
  },
  {
   "cell_type": "markdown",
   "metadata": {},
   "source": [
    "*Неодназначность может возникнуть в тех случаях, когда в предложении присутствует омонимия. Например, слово \"пила\" может являться как глаголом в форме прошедшего времени женского рода (она пила), так и существительным (острая пила). Например, предложение \"Девочка пила холодную воду\" будет иметь неоднозначные разборы.*"
   ]
  }
 ],
 "metadata": {
  "kernelspec": {
   "display_name": "Python 3",
   "language": "python",
   "name": "python3"
  },
  "language_info": {
   "codemirror_mode": {
    "name": "ipython",
    "version": 3
   },
   "file_extension": ".py",
   "mimetype": "text/x-python",
   "name": "python",
   "nbconvert_exporter": "python",
   "pygments_lexer": "ipython3",
   "version": "3.7.0"
  }
 },
 "nbformat": 4,
 "nbformat_minor": 2
}
